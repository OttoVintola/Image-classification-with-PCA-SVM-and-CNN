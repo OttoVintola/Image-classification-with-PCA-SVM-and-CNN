{
 "cells": [
  {
   "cell_type": "code",
   "execution_count": 2,
   "metadata": {},
   "outputs": [
    {
     "name": "stderr",
     "output_type": "stream",
     "text": [
      "2023-10-05 13:28:46.765546: I tensorflow/core/platform/cpu_feature_guard.cc:182] This TensorFlow binary is optimized to use available CPU instructions in performance-critical operations.\n",
      "To enable the following instructions: AVX2 FMA, in other operations, rebuild TensorFlow with the appropriate compiler flags.\n"
     ]
    }
   ],
   "source": [
    "import tensorflow as tf\n",
    "from tensorflow.keras.models import Sequential, load_model\n",
    "from tensorflow.keras.layers import Conv2D, MaxPooling2D, Flatten, Dense\n",
    "from tensorflow.keras.preprocessing.image import ImageDataGenerator"
   ]
  },
  {
   "cell_type": "markdown",
   "metadata": {},
   "source": [
    "Perform data augmentation"
   ]
  },
  {
   "cell_type": "code",
   "execution_count": 5,
   "metadata": {},
   "outputs": [],
   "source": [
    "datagen = ImageDataGenerator(\n",
    "    rescale=1./255,\n",
    "    rotation_range=40,\n",
    "    width_shift_range=0.2,\n",
    "    height_shift_range=0.2,\n",
    "    shear_range=0.2,\n",
    "    zoom_range=0.2,\n",
    "    horizontal_flip=True,\n",
    "    fill_mode='constant',\n",
    "    cval=0\n",
    ")"
   ]
  },
  {
   "cell_type": "markdown",
   "metadata": {},
   "source": [
    "Load the data and define the batch size"
   ]
  },
  {
   "cell_type": "code",
   "execution_count": 6,
   "metadata": {},
   "outputs": [
    {
     "name": "stdout",
     "output_type": "stream",
     "text": [
      "Found 14034 images belonging to 6 classes.\n"
     ]
    }
   ],
   "source": [
    "batch_size = 32\n",
    "\n",
    "training_data = datagen.flow_from_directory(\n",
    "    'data/seg_train/seg_train/',\n",
    "    target_size=(150, 150),\n",
    "    batch_size=batch_size,\n",
    "    class_mode='categorical'\n",
    ")\n"
   ]
  },
  {
   "cell_type": "markdown",
   "metadata": {},
   "source": [
    "Creating the CNN model"
   ]
  },
  {
   "cell_type": "code",
   "execution_count": 53,
   "metadata": {},
   "outputs": [],
   "source": [
    "model = Sequential([\n",
    "    Conv2D(32, (3, 3), activation='relu', input_shape=(150, 150, 3)),\n",
    "    MaxPooling2D(2, 2),\n",
    "    Conv2D(64, (3, 3), activation='relu'),\n",
    "    MaxPooling2D(2, 2),\n",
    "    Conv2D(128, (3, 3), activation='relu'),\n",
    "    MaxPooling2D(2, 2),\n",
    "    Flatten(),\n",
    "    Dense(512, activation='relu'),\n",
    "    Dense(6, activation='softmax')  # 6 output units for 6 classes\n",
    "])"
   ]
  },
  {
   "cell_type": "markdown",
   "metadata": {},
   "source": [
    "Compile the model – specifying the loss function, optimizer, and metrics"
   ]
  },
  {
   "cell_type": "code",
   "execution_count": 39,
   "metadata": {},
   "outputs": [],
   "source": [
    "model.compile(loss='categorical_crossentropy',\n",
    "              optimizer='adam',\n",
    "              metrics=['accuracy'])"
   ]
  },
  {
   "cell_type": "code",
   "execution_count": 71,
   "metadata": {},
   "outputs": [],
   "source": [
    "PCA_model.compile(loss='categorical_crossentropy',\n",
    "                  optimizer='adam', \n",
    "                  metrics=['accuracy'])"
   ]
  },
  {
   "cell_type": "markdown",
   "metadata": {},
   "source": [
    "Train the model and store the traning history in a variable"
   ]
  },
  {
   "cell_type": "code",
   "execution_count": 41,
   "metadata": {},
   "outputs": [
    {
     "name": "stdout",
     "output_type": "stream",
     "text": [
      "Epoch 1/20\n",
      "438/438 [==============================] - 229s 523ms/step - loss: 0.6751 - accuracy: 0.7517\n",
      "Epoch 2/20\n",
      "438/438 [==============================] - 225s 512ms/step - loss: 0.6392 - accuracy: 0.7676\n",
      "Epoch 3/20\n",
      "438/438 [==============================] - 221s 505ms/step - loss: 0.6114 - accuracy: 0.7749\n",
      "Epoch 4/20\n",
      "438/438 [==============================] - 223s 508ms/step - loss: 0.5855 - accuracy: 0.7835\n",
      "Epoch 5/20\n",
      "438/438 [==============================] - 225s 513ms/step - loss: 0.5705 - accuracy: 0.7922\n",
      "Epoch 6/20\n",
      "438/438 [==============================] - 222s 507ms/step - loss: 0.5471 - accuracy: 0.8020\n",
      "Epoch 7/20\n",
      "438/438 [==============================] - 224s 511ms/step - loss: 0.5432 - accuracy: 0.8041\n",
      "Epoch 8/20\n",
      "438/438 [==============================] - 220s 503ms/step - loss: 0.5312 - accuracy: 0.8089\n",
      "Epoch 9/20\n",
      "438/438 [==============================] - 222s 506ms/step - loss: 0.5189 - accuracy: 0.8130\n",
      "Epoch 10/20\n",
      "438/438 [==============================] - 219s 499ms/step - loss: 0.5033 - accuracy: 0.8171\n",
      "Epoch 11/20\n",
      "438/438 [==============================] - 222s 507ms/step - loss: 0.4937 - accuracy: 0.8227\n",
      "Epoch 12/20\n",
      "438/438 [==============================] - 218s 498ms/step - loss: 0.4812 - accuracy: 0.8263\n",
      "Epoch 13/20\n",
      "438/438 [==============================] - 220s 502ms/step - loss: 0.4799 - accuracy: 0.8224\n",
      "Epoch 14/20\n",
      "438/438 [==============================] - 215s 491ms/step - loss: 0.4715 - accuracy: 0.8309\n",
      "Epoch 15/20\n",
      "438/438 [==============================] - 231s 526ms/step - loss: 0.4657 - accuracy: 0.8292\n",
      "Epoch 16/20\n",
      "438/438 [==============================] - 237s 540ms/step - loss: 0.4579 - accuracy: 0.8342\n",
      "Epoch 17/20\n",
      "438/438 [==============================] - 248s 566ms/step - loss: 0.4475 - accuracy: 0.8393\n",
      "Epoch 18/20\n",
      "438/438 [==============================] - 252s 576ms/step - loss: 0.4528 - accuracy: 0.8352\n",
      "Epoch 19/20\n",
      "438/438 [==============================] - 247s 563ms/step - loss: 0.4321 - accuracy: 0.8439\n",
      "Epoch 20/20\n",
      "438/438 [==============================] - 245s 558ms/step - loss: 0.4411 - accuracy: 0.8396\n"
     ]
    }
   ],
   "source": [
    "epochs = 20\n",
    "\n",
    "history = model.fit(\n",
    "    training_data,\n",
    "    steps_per_epoch=training_data.samples // batch_size,\n",
    "    epochs=epochs\n",
    ")"
   ]
  },
  {
   "cell_type": "markdown",
   "metadata": {},
   "source": [
    "Define the testing data generator without data augmentation"
   ]
  },
  {
   "cell_type": "code",
   "execution_count": 63,
   "metadata": {},
   "outputs": [],
   "source": [
    "test_datagen = ImageDataGenerator(rescale=1./255)"
   ]
  },
  {
   "cell_type": "code",
   "execution_count": 64,
   "metadata": {},
   "outputs": [
    {
     "name": "stdout",
     "output_type": "stream",
     "text": [
      "Found 3000 images belonging to 6 classes.\n"
     ]
    }
   ],
   "source": [
    "test_generator = test_datagen.flow_from_directory(\n",
    "    'data/seg_test/seg_test/',  \n",
    "    target_size=(150, 150),  \n",
    "    batch_size=batch_size,   \n",
    "    class_mode='categorical' \n",
    ")"
   ]
  },
  {
   "cell_type": "code",
   "execution_count": 73,
   "metadata": {},
   "outputs": [
    {
     "name": "stdout",
     "output_type": "stream",
     "text": [
      "94/94 [==============================] - 0s 2ms/step - loss: 2.6197 - accuracy: 0.2503\n",
      "Test accuracy: 0.25033333897590637\n"
     ]
    }
   ],
   "source": [
    "test_loss, test_accuracy = PCA_model.evaluate(training_data)\n",
    "print(f\"Test accuracy: {test_accuracy}\")"
   ]
  }
 ],
 "metadata": {
  "kernelspec": {
   "display_name": "Python 3.9.13 ('base')",
   "language": "python",
   "name": "python3"
  },
  "language_info": {
   "codemirror_mode": {
    "name": "ipython",
    "version": 3
   },
   "file_extension": ".py",
   "mimetype": "text/x-python",
   "name": "python",
   "nbconvert_exporter": "python",
   "pygments_lexer": "ipython3",
   "version": "3.9.13"
  },
  "orig_nbformat": 4,
  "vscode": {
   "interpreter": {
    "hash": "d3d6b2b1f363b7b2e5eed637149829a5cca9bf83e48f30d86be1cdfa7105e8ae"
   }
  }
 },
 "nbformat": 4,
 "nbformat_minor": 2
}
